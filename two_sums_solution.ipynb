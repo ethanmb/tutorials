{
  "nbformat": 4,
  "nbformat_minor": 0,
  "metadata": {
    "colab": {
      "name": "two-sums-solution.ipynb",
      "provenance": [],
      "authorship_tag": "ABX9TyNwbMVb2ezHY1tOXcFU6ZGd",
      "include_colab_link": true
    },
    "kernelspec": {
      "name": "python3",
      "display_name": "Python 3"
    },
    "language_info": {
      "name": "python"
    }
  },
  "cells": [
    {
      "cell_type": "markdown",
      "metadata": {
        "id": "view-in-github",
        "colab_type": "text"
      },
      "source": [
        "<a href=\"https://colab.research.google.com/github/ethanmb/tutorials-assignments/blob/main/two_sums_solution.ipynb\" target=\"_parent\"><img src=\"https://colab.research.google.com/assets/colab-badge.svg\" alt=\"Open In Colab\"/></a>"
      ]
    },
    {
      "cell_type": "code",
      "execution_count": 59,
      "metadata": {
        "id": "Ye-uGZQHPqnG"
      },
      "outputs": [],
      "source": [
        "from itertools import combinations\n",
        "def twoSum(nums, target):\n",
        "  numCombs = combinations(nums, 2)\n",
        "\n",
        "  for x in numCombs:\n",
        "    if x[0] + x[1] == target:\n",
        "        firstIndex = nums.index(x[0])\n",
        "        secondIndex = nums.index(x[1])\n",
        "        if firstIndex == secondIndex:\n",
        "          secondIndex = len(nums) - 1 - nums[::-1].index(x[1])\n",
        "        return [firstIndex, secondIndex]\n"
      ]
    },
    {
      "cell_type": "code",
      "source": [
        "twoSum([2,7,11,15], 9)"
      ],
      "metadata": {
        "colab": {
          "base_uri": "https://localhost:8080/"
        },
        "id": "H2sUfpiYPxZW",
        "outputId": "16e91cd3-39d3-4e76-987c-e536f42c0b38"
      },
      "execution_count": 60,
      "outputs": [
        {
          "output_type": "execute_result",
          "data": {
            "text/plain": [
              "[0, 1]"
            ]
          },
          "metadata": {},
          "execution_count": 60
        }
      ]
    },
    {
      "cell_type": "code",
      "source": [
        "twoSum([3,3], 6)"
      ],
      "metadata": {
        "colab": {
          "base_uri": "https://localhost:8080/"
        },
        "id": "MEdHwC6WP-1R",
        "outputId": "dd0af3a9-716f-4cdc-d660-f7ee618bc2fd"
      },
      "execution_count": 61,
      "outputs": [
        {
          "output_type": "execute_result",
          "data": {
            "text/plain": [
              "[0, 1]"
            ]
          },
          "metadata": {},
          "execution_count": 61
        }
      ]
    },
    {
      "cell_type": "code",
      "source": [
        ""
      ],
      "metadata": {
        "id": "lgsQbNmXRrG7"
      },
      "execution_count": null,
      "outputs": []
    }
  ]
}