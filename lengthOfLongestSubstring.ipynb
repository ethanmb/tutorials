{
  "nbformat": 4,
  "nbformat_minor": 0,
  "metadata": {
    "colab": {
      "name": "lengthOfLongestSubstring.ipynb",
      "provenance": [],
      "authorship_tag": "ABX9TyM/z9xLlC8SQqeAy74OmBAf",
      "include_colab_link": true
    },
    "kernelspec": {
      "name": "python3",
      "display_name": "Python 3"
    },
    "language_info": {
      "name": "python"
    }
  },
  "cells": [
    {
      "cell_type": "markdown",
      "metadata": {
        "id": "view-in-github",
        "colab_type": "text"
      },
      "source": [
        "<a href=\"https://colab.research.google.com/github/ethanmb/tutorials-assignments/blob/main/lengthOfLongestSubstring.ipynb\" target=\"_parent\"><img src=\"https://colab.research.google.com/assets/colab-badge.svg\" alt=\"Open In Colab\"/></a>"
      ]
    },
    {
      "cell_type": "markdown",
      "source": [
        "Given a string s, find the length of the longest substring without repeating characters.\n",
        "\n",
        " \n",
        "\n",
        "Example 1:\n",
        "\n",
        "Input: s = \"abcabcbb\"\n",
        "Output: 3\n",
        "Explanation: The answer is \"abc\", with the length of 3.\n",
        "Example 2:\n",
        "\n",
        "Input: s = \"bbbbb\"\n",
        "Output: 1\n",
        "Explanation: The answer is \"b\", with the length of 1.\n",
        "Example 3:\n",
        "\n",
        "Input: s = \"pwwkew\"\n",
        "Output: 3\n",
        "Explanation: The answer is \"wke\", with the length of 3.\n",
        "Notice that the answer must be a substring, \"pwke\" is a subsequence and not a substring.\n",
        " \n",
        "\n",
        "Constraints:\n",
        "\n",
        "0 <= s.length <= 5 * 104\n",
        "s consists of English letters, digits, symbols and spaces."
      ],
      "metadata": {
        "id": "dVOlZ5YvPu5h"
      }
    },
    {
      "cell_type": "code",
      "execution_count": 100,
      "metadata": {
        "id": "UR9-Wu8-PtxN"
      },
      "outputs": [],
      "source": [
        "def lengthOfLongestSubstring(s):\n",
        "  running = \"\"\n",
        "  running2 = \"\"\n",
        "  for i in range(len(s)):\n",
        "    if i > 0 and s[i] != s[i-1] and not(s[i] in running):\n",
        "      running += s[i]\n",
        "\n",
        "    elif i ==0:\n",
        "      running += s[i]\n",
        "\n",
        "    else:\n",
        "      running = running[running.index(s[i]):]\n",
        "      if len(running) > 1:\n",
        "        running = running[1:] + s[i]\n",
        "\n",
        "    if len(running) > len(running2):\n",
        "      running2 = running\n",
        "    print(running)\n",
        "  return len(running2)"
      ]
    },
    {
      "cell_type": "code",
      "source": [
        "lengthOfLongestSubstring(\"bbbbbb\")"
      ],
      "metadata": {
        "colab": {
          "base_uri": "https://localhost:8080/"
        },
        "id": "hHthJH-bP00N",
        "outputId": "06d2e57c-4f82-43a8-b509-03303c5dea21"
      },
      "execution_count": 101,
      "outputs": [
        {
          "output_type": "stream",
          "name": "stdout",
          "text": [
            "b\n",
            "b\n",
            "b\n",
            "b\n",
            "b\n",
            "b\n"
          ]
        },
        {
          "output_type": "execute_result",
          "data": {
            "text/plain": [
              "1"
            ]
          },
          "metadata": {},
          "execution_count": 101
        }
      ]
    },
    {
      "cell_type": "code",
      "source": [
        "lengthOfLongestSubstring(\"pwwkew\")"
      ],
      "metadata": {
        "colab": {
          "base_uri": "https://localhost:8080/"
        },
        "id": "MWzxnksvP47K",
        "outputId": "0fe49699-f915-4cef-8caf-1c6cec77f36c"
      },
      "execution_count": 102,
      "outputs": [
        {
          "output_type": "stream",
          "name": "stdout",
          "text": [
            "p\n",
            "pw\n",
            "w\n",
            "wk\n",
            "wke\n",
            "kew\n"
          ]
        },
        {
          "output_type": "execute_result",
          "data": {
            "text/plain": [
              "3"
            ]
          },
          "metadata": {},
          "execution_count": 102
        }
      ]
    },
    {
      "cell_type": "code",
      "source": [
        "lengthOfLongestSubstring(\"abcabcbb\")"
      ],
      "metadata": {
        "colab": {
          "base_uri": "https://localhost:8080/"
        },
        "id": "M_nMYoZnQ3bq",
        "outputId": "0829cda2-ce37-475f-b8b3-3459bd591b53"
      },
      "execution_count": 103,
      "outputs": [
        {
          "output_type": "stream",
          "name": "stdout",
          "text": [
            "a\n",
            "ab\n",
            "abc\n",
            "bca\n",
            "cab\n",
            "abc\n",
            "cb\n",
            "b\n"
          ]
        },
        {
          "output_type": "execute_result",
          "data": {
            "text/plain": [
              "3"
            ]
          },
          "metadata": {},
          "execution_count": 103
        }
      ]
    },
    {
      "cell_type": "code",
      "source": [
        "lengthOfLongestSubstring(\"\")"
      ],
      "metadata": {
        "colab": {
          "base_uri": "https://localhost:8080/"
        },
        "id": "xRVRKvqURzcx",
        "outputId": "80abe08d-1fd7-4e2b-fff5-2664899adac4"
      },
      "execution_count": 104,
      "outputs": [
        {
          "output_type": "execute_result",
          "data": {
            "text/plain": [
              "0"
            ]
          },
          "metadata": {},
          "execution_count": 104
        }
      ]
    },
    {
      "cell_type": "code",
      "source": [
        "lengthOfLongestSubstring(\"aabaab!bb\")"
      ],
      "metadata": {
        "colab": {
          "base_uri": "https://localhost:8080/"
        },
        "id": "PlnzqFNsTRDj",
        "outputId": "66f2cd8c-bb74-41f0-95f9-e3ec05d0f13c"
      },
      "execution_count": 105,
      "outputs": [
        {
          "output_type": "stream",
          "name": "stdout",
          "text": [
            "a\n",
            "a\n",
            "ab\n",
            "ba\n",
            "a\n",
            "ab\n",
            "ab!\n",
            "!b\n",
            "b\n"
          ]
        },
        {
          "output_type": "execute_result",
          "data": {
            "text/plain": [
              "3"
            ]
          },
          "metadata": {},
          "execution_count": 105
        }
      ]
    },
    {
      "cell_type": "code",
      "source": [
        ""
      ],
      "metadata": {
        "id": "Z4RIi7HYTlfL"
      },
      "execution_count": null,
      "outputs": []
    }
  ]
}