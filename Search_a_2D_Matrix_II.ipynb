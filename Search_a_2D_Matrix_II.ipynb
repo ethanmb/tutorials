{
  "nbformat": 4,
  "nbformat_minor": 0,
  "metadata": {
    "colab": {
      "name": "Search a 2D Matrix II.ipynb",
      "provenance": [],
      "authorship_tag": "ABX9TyOuK5FRWT4u9+zzBwZT43LW",
      "include_colab_link": true
    },
    "kernelspec": {
      "name": "python3",
      "display_name": "Python 3"
    },
    "language_info": {
      "name": "python"
    }
  },
  "cells": [
    {
      "cell_type": "markdown",
      "metadata": {
        "id": "view-in-github",
        "colab_type": "text"
      },
      "source": [
        "<a href=\"https://colab.research.google.com/github/ethanmb/tutorials-assignments/blob/main/Search_a_2D_Matrix_II.ipynb\" target=\"_parent\"><img src=\"https://colab.research.google.com/assets/colab-badge.svg\" alt=\"Open In Colab\"/></a>"
      ]
    },
    {
      "cell_type": "markdown",
      "source": [
        "Write an efficient algorithm that searches for a value target in an m x n integer matrix matrix. This matrix has the following properties:\n",
        "\n",
        "Integers in each row are sorted in ascending from left to right.\n",
        "Integers in each column are sorted in ascending from top to bottom.\n",
        " \n",
        "\n",
        "Example 1:\n",
        "\n",
        "\n",
        "Input: matrix = [[1,4,7,11,15],[2,5,8,12,19],[3,6,9,16,22],[10,13,14,17,24],[18,21,23,26,30]], target = 5\n",
        "Output: true\n",
        "Example 2:\n",
        "\n",
        "\n",
        "Input: matrix = [[1,4,7,11,15],[2,5,8,12,19],[3,6,9,16,22],[10,13,14,17,24],[18,21,23,26,30]], target = 20\n",
        "Output: false"
      ],
      "metadata": {
        "id": "gm32Sbcod7Dh"
      }
    },
    {
      "cell_type": "code",
      "execution_count": 3,
      "metadata": {
        "id": "CDj7Kmumd2pv"
      },
      "outputs": [],
      "source": [
        "def searchMatrix(matrix,target):\n",
        "  for x in range(len(matrix)):\n",
        "    for y in matrix[x]:\n",
        "      if y == target:\n",
        "        return True\n",
        "\n",
        "\n",
        "  return False"
      ]
    },
    {
      "cell_type": "code",
      "source": [
        "searchMatrix([[1,4,7,11,15],[2,5,8,12,19],[3,6,9,16,22],[10,13,14,17,24],[18,21,23,26,30]], 5)"
      ],
      "metadata": {
        "colab": {
          "base_uri": "https://localhost:8080/"
        },
        "id": "KJsMTEk2eAXk",
        "outputId": "d42ef36c-94c5-4b8c-88c5-d568e0beb684"
      },
      "execution_count": 4,
      "outputs": [
        {
          "output_type": "execute_result",
          "data": {
            "text/plain": [
              "True"
            ]
          },
          "metadata": {},
          "execution_count": 4
        }
      ]
    },
    {
      "cell_type": "code",
      "source": [
        ""
      ],
      "metadata": {
        "id": "52wrIusDeGBM"
      },
      "execution_count": null,
      "outputs": []
    }
  ]
}